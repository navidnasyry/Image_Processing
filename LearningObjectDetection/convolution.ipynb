{
 "cells": [
  {
   "cell_type": "code",
   "execution_count": 3,
   "metadata": {},
   "outputs": [
    {
     "ename": "AttributeError",
     "evalue": "module 'PIL' has no attribute 'Image'",
     "output_type": "error",
     "traceback": [
      "\u001b[0;31m---------------------------------------------------------------------------\u001b[0m",
      "\u001b[0;31mAttributeError\u001b[0m                            Traceback (most recent call last)",
      "\u001b[0;32m/tmp/ipykernel_24830/1964099463.py\u001b[0m in \u001b[0;36m<module>\u001b[0;34m\u001b[0m\n\u001b[1;32m     30\u001b[0m \u001b[0mimg\u001b[0m \u001b[0;34m=\u001b[0m \u001b[0mcv2\u001b[0m\u001b[0;34m.\u001b[0m\u001b[0mimread\u001b[0m\u001b[0;34m(\u001b[0m\u001b[0;34m\"cat.jpg\"\u001b[0m\u001b[0;34m)\u001b[0m\u001b[0;34m\u001b[0m\u001b[0;34m\u001b[0m\u001b[0m\n\u001b[1;32m     31\u001b[0m \u001b[0;31m#showImage(img, \"original\")\u001b[0m\u001b[0;34m\u001b[0m\u001b[0;34m\u001b[0m\u001b[0;34m\u001b[0m\u001b[0m\n\u001b[0;32m---> 32\u001b[0;31m \u001b[0mPIL\u001b[0m\u001b[0;34m.\u001b[0m\u001b[0mImage\u001b[0m\u001b[0;34m.\u001b[0m\u001b[0mopen\u001b[0m\u001b[0;34m(\u001b[0m\u001b[0mimg\u001b[0m\u001b[0;34m)\u001b[0m\u001b[0;34m\u001b[0m\u001b[0;34m\u001b[0m\u001b[0m\n\u001b[0m\u001b[1;32m     33\u001b[0m \u001b[0;34m\u001b[0m\u001b[0m\n",
      "\u001b[0;32m~/.local/lib/python3.9/site-packages/PIL/__init__.py\u001b[0m in \u001b[0;36m__getattr__\u001b[0;34m(name)\u001b[0m\n\u001b[1;32m     40\u001b[0m             \u001b[0m_raise_version_warning\u001b[0m\u001b[0;34m(\u001b[0m\u001b[0;34m)\u001b[0m\u001b[0;34m\u001b[0m\u001b[0;34m\u001b[0m\u001b[0m\n\u001b[1;32m     41\u001b[0m             \u001b[0;32mreturn\u001b[0m \u001b[0m__version__\u001b[0m\u001b[0;34m\u001b[0m\u001b[0;34m\u001b[0m\u001b[0m\n\u001b[0;32m---> 42\u001b[0;31m         \u001b[0;32mraise\u001b[0m \u001b[0mAttributeError\u001b[0m\u001b[0;34m(\u001b[0m\u001b[0;34mf\"module '{__name__}' has no attribute '{name}'\"\u001b[0m\u001b[0;34m)\u001b[0m\u001b[0;34m\u001b[0m\u001b[0;34m\u001b[0m\u001b[0m\n\u001b[0m\u001b[1;32m     43\u001b[0m \u001b[0;34m\u001b[0m\u001b[0m\n\u001b[1;32m     44\u001b[0m \u001b[0;34m\u001b[0m\u001b[0m\n",
      "\u001b[0;31mAttributeError\u001b[0m: module 'PIL' has no attribute 'Image'"
     ]
    }
   ],
   "source": [
    " \n",
    "\n",
    "import cv2\n",
    "import argparse\n",
    "import numpy as np \n",
    "import PIL\n",
    "\n",
    "\n",
    "\n",
    "\n",
    "def showImage(img, name):\n",
    "\n",
    "    #cv2.imshow(\"original\", image)\n",
    "    winname = name\n",
    "    cv2.namedWindow(winname)        # Create a named window\n",
    "    cv2.moveWindow(winname, 40,30)  # Move it to (40,30)\n",
    "    cv2.imshow(winname, img)\n",
    "    pic_name = \"image_\"+ name +\".png\"\n",
    "    cv2.imwrite(pic_name, img)\n",
    "    cv2.waitKey(0)\n",
    "\n",
    "\n",
    "\n",
    "#ap = argparse.ArgumentParser()\n",
    "#ap.add_argument(\"-i\", \"--image\", required=True, \n",
    " #               help= \"path to input image\")\n",
    "\n",
    "#args = vars(ap.parse_args())\n",
    "\n",
    "\n",
    "\n",
    "img = cv2.imread(\"cat.jpg\")\n",
    "#showImage(img, \"original\")\n",
    "#PIL.Image.open(img)\n",
    "\n"
   ]
  },
  {
   "cell_type": "code",
   "execution_count": null,
   "metadata": {},
   "outputs": [],
   "source": [
    "\n",
    "#Identity kernel\n",
    "kernel1 = np.array([[0,0,0],\n",
    "                    [0,1,0],\n",
    "                    [0,0,0]]\n",
    "                    )\n",
    "\n",
    "im1 = cv2.filter2D(img, -1, kernel1)\n",
    "showImage(im1 ,'Identity kernel' )\n"
   ]
  },
  {
   "cell_type": "code",
   "execution_count": null,
   "metadata": {},
   "outputs": [],
   "source": [
    "\n",
    "#shapening kernel\n",
    "kernel2 = np.array([[-1,-1,-1],\n",
    "                    [-1, 9,-1],\n",
    "                    [-1,-1,-1]]\n",
    "                    )\n",
    "                    \n",
    "im2 = cv2.filter2D(img, -1, kernel2)\n",
    "showImage(im2, 'Sharpening kernel')"
   ]
  },
  {
   "cell_type": "code",
   "execution_count": 1,
   "metadata": {},
   "outputs": [
    {
     "ename": "NameError",
     "evalue": "name 'np' is not defined",
     "output_type": "error",
     "traceback": [
      "\u001b[0;31m---------------------------------------------------------------------------\u001b[0m",
      "\u001b[0;31mNameError\u001b[0m                                 Traceback (most recent call last)",
      "\u001b[0;32m/tmp/ipykernel_24830/3395033301.py\u001b[0m in \u001b[0;36m<module>\u001b[0;34m\u001b[0m\n\u001b[1;32m      1\u001b[0m \u001b[0;31m#blurring kernel\u001b[0m\u001b[0;34m\u001b[0m\u001b[0;34m\u001b[0m\u001b[0;34m\u001b[0m\u001b[0m\n\u001b[0;32m----> 2\u001b[0;31m kernel3 = np.array([[0.02040816, 0.02040816, 0.02040816, 0.02040816, 0.02040816,0.02040816, 0.02040816],\n\u001b[0m\u001b[1;32m      3\u001b[0m                     \u001b[0;34m[\u001b[0m\u001b[0;36m0.02040816\u001b[0m\u001b[0;34m,\u001b[0m \u001b[0;36m0.02040816\u001b[0m\u001b[0;34m,\u001b[0m \u001b[0;36m0.02040816\u001b[0m\u001b[0;34m,\u001b[0m \u001b[0;36m0.02040816\u001b[0m\u001b[0;34m,\u001b[0m \u001b[0;36m0.02040816\u001b[0m\u001b[0;34m,\u001b[0m\u001b[0;36m0.02040816\u001b[0m\u001b[0;34m,\u001b[0m \u001b[0;36m0.02040816\u001b[0m\u001b[0;34m]\u001b[0m\u001b[0;34m,\u001b[0m\u001b[0;34m\u001b[0m\u001b[0;34m\u001b[0m\u001b[0m\n\u001b[1;32m      4\u001b[0m                     \u001b[0;34m[\u001b[0m\u001b[0;36m0.02040816\u001b[0m\u001b[0;34m,\u001b[0m \u001b[0;36m0.02040816\u001b[0m\u001b[0;34m,\u001b[0m \u001b[0;36m0.02040816\u001b[0m\u001b[0;34m,\u001b[0m \u001b[0;36m0.02040816\u001b[0m\u001b[0;34m,\u001b[0m \u001b[0;36m0.02040816\u001b[0m\u001b[0;34m,\u001b[0m\u001b[0;36m0.02040816\u001b[0m\u001b[0;34m,\u001b[0m \u001b[0;36m0.02040816\u001b[0m\u001b[0;34m]\u001b[0m\u001b[0;34m,\u001b[0m\u001b[0;34m\u001b[0m\u001b[0;34m\u001b[0m\u001b[0m\n\u001b[1;32m      5\u001b[0m                     \u001b[0;34m[\u001b[0m\u001b[0;36m0.02040816\u001b[0m\u001b[0;34m,\u001b[0m \u001b[0;36m0.02040816\u001b[0m\u001b[0;34m,\u001b[0m \u001b[0;36m0.02040816\u001b[0m\u001b[0;34m,\u001b[0m \u001b[0;36m0.02040816\u001b[0m\u001b[0;34m,\u001b[0m \u001b[0;36m0.02040816\u001b[0m\u001b[0;34m,\u001b[0m\u001b[0;36m0.02040816\u001b[0m\u001b[0;34m,\u001b[0m \u001b[0;36m0.02040816\u001b[0m\u001b[0;34m]\u001b[0m\u001b[0;34m,\u001b[0m\u001b[0;34m\u001b[0m\u001b[0;34m\u001b[0m\u001b[0m\n",
      "\u001b[0;31mNameError\u001b[0m: name 'np' is not defined"
     ]
    }
   ],
   "source": [
    "#blurring kernel\n",
    "kernel3 = np.array([[0.02040816, 0.02040816, 0.02040816, 0.02040816, 0.02040816,0.02040816, 0.02040816],\n",
    "                    [0.02040816, 0.02040816, 0.02040816, 0.02040816, 0.02040816,0.02040816, 0.02040816],\n",
    "                    [0.02040816, 0.02040816, 0.02040816, 0.02040816, 0.02040816,0.02040816, 0.02040816],\n",
    "                    [0.02040816, 0.02040816, 0.02040816, 0.02040816, 0.02040816,0.02040816, 0.02040816],\n",
    "                    [0.02040816, 0.02040816, 0.02040816, 0.02040816, 0.02040816,0.02040816, 0.02040816],\n",
    "                    [0.02040816, 0.02040816, 0.02040816, 0.02040816, 0.02040816,0.02040816, 0.02040816],\n",
    "                    [0.02040816, 0.02040816, 0.02040816, 0.02040816, 0.02040816,0.02040816, 0.02040816]])\n",
    "\n",
    "                    \n",
    "im3 = cv2.filter2D(img, -1, kernel3)\n",
    "showImage(im3, 'Blurring kernel')"
   ]
  },
  {
   "cell_type": "code",
   "execution_count": null,
   "metadata": {},
   "outputs": [],
   "source": [
    "#edge\n",
    "kernel2 = np.array([[-1,-1,-1],\n",
    "                    [-1, 8,-1],\n",
    "                    [-1,-1,-1]]\n",
    "                    )\n",
    "                    \n",
    "im2 = cv2.filter2D(img, -1, kernel2)\n",
    "showImage(im2, 'edge')"
   ]
  },
  {
   "cell_type": "code",
   "execution_count": null,
   "metadata": {},
   "outputs": [],
   "source": []
  }
 ],
 "metadata": {
  "interpreter": {
   "hash": "4e1d9a8909477db77738c33245c29c7265277ef753467dede8cf3f814cde494e"
  },
  "kernelspec": {
   "display_name": "Python 3 (ipykernel)",
   "language": "python",
   "name": "python3"
  },
  "language_info": {
   "codemirror_mode": {
    "name": "ipython",
    "version": 3
   },
   "file_extension": ".py",
   "mimetype": "text/x-python",
   "name": "python",
   "nbconvert_exporter": "python",
   "pygments_lexer": "ipython3",
   "version": "3.9.6"
  }
 },
 "nbformat": 4,
 "nbformat_minor": 2
}
