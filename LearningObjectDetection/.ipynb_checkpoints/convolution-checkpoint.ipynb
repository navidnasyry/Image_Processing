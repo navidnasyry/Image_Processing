{
 "cells": [
  {
   "cell_type": "code",
   "execution_count": null,
   "metadata": {},
   "outputs": [],
   "source": [
    " \n",
    "\n",
    "import cv2\n",
    "import argparse\n",
    "import numpy as np \n",
    "\n",
    "\n",
    "\n",
    "\n",
    "def showImage(img, name):\n",
    "\n",
    "    #cv2.imshow(\"original\", image)\n",
    "    winname = name\n",
    "    cv2.namedWindow(winname)        # Create a named window\n",
    "    cv2.moveWindow(winname, 40,30)  # Move it to (40,30)\n",
    "    cv2.imshow(winname, img)\n",
    "    pic_name = \"image_\"+ name +\".png\"\n",
    "    cv2.imwrite(pic_name, img)\n",
    "    cv2.waitKey(0)\n",
    "\n",
    "\n",
    "\n",
    "#ap = argparse.ArgumentParser()\n",
    "#ap.add_argument(\"-i\", \"--image\", required=True, \n",
    " #               help= \"path to input image\")\n",
    "\n",
    "#args = vars(ap.parse_args())\n",
    "\n",
    "\n",
    "\n",
    "img = cv2.imread(\"cat.jpg\")\n",
    "showImage(img, \"original\")\n",
    "\n",
    "\n"
   ]
  },
  {
   "cell_type": "code",
   "execution_count": null,
   "metadata": {},
   "outputs": [],
   "source": [
    "\n",
    "#Identity kernel\n",
    "kernel1 = np.array([[0,0,0],\n",
    "                    [0,1,0],\n",
    "                    [0,0,0]]\n",
    "                    )\n",
    "\n",
    "im1 = cv2.filter2D(img, -1, kernel1)\n",
    "showImage(im1 ,'Identity kernel' )\n"
   ]
  },
  {
   "cell_type": "code",
   "execution_count": null,
   "metadata": {},
   "outputs": [],
   "source": [
    "\n",
    "#shapening kernel\n",
    "kernel2 = np.array([[-1,-1,-1],\n",
    "                    [-1, 9,-1],\n",
    "                    [-1,-1,-1]]\n",
    "                    )\n",
    "                    \n",
    "im2 = cv2.filter2D(img, -1, kernel2)\n",
    "showImage(im2, 'Sharpening kernel')"
   ]
  },
  {
   "cell_type": "code",
   "execution_count": null,
   "metadata": {},
   "outputs": [],
   "source": [
    "#blurring kernel\n",
    "kernel3 = np.array([[0.02040816, 0.02040816, 0.02040816, 0.02040816, 0.02040816,0.02040816, 0.02040816],\n",
    "                    [0.02040816, 0.02040816, 0.02040816, 0.02040816, 0.02040816,0.02040816, 0.02040816],\n",
    "                    [0.02040816, 0.02040816, 0.02040816, 0.02040816, 0.02040816,0.02040816, 0.02040816],\n",
    "                    [0.02040816, 0.02040816, 0.02040816, 0.02040816, 0.02040816,0.02040816, 0.02040816],\n",
    "                    [0.02040816, 0.02040816, 0.02040816, 0.02040816, 0.02040816,0.02040816, 0.02040816],\n",
    "                    [0.02040816, 0.02040816, 0.02040816, 0.02040816, 0.02040816,0.02040816, 0.02040816],\n",
    "                    [0.02040816, 0.02040816, 0.02040816, 0.02040816, 0.02040816,0.02040816, 0.02040816]])\n",
    "\n",
    "                    \n",
    "im3 = cv2.filter2D(img, -1, kernel3)\n",
    "showImage(im3, 'Blurring kernel')"
   ]
  },
  {
   "cell_type": "code",
   "execution_count": null,
   "metadata": {},
   "outputs": [],
   "source": [
    "#edge\n",
    "kernel2 = np.array([[-1,-1,-1],\n",
    "                    [-1, 8,-1],\n",
    "                    [-1,-1,-1]]\n",
    "                    )\n",
    "                    \n",
    "im2 = cv2.filter2D(img, -1, kernel2)\n",
    "showImage(im2, 'edge')"
   ]
  },
  {
   "cell_type": "code",
   "execution_count": null,
   "metadata": {},
   "outputs": [],
   "source": []
  }
 ],
 "metadata": {
  "interpreter": {
   "hash": "4e1d9a8909477db77738c33245c29c7265277ef753467dede8cf3f814cde494e"
  },
  "kernelspec": {
   "display_name": "Python 3 (ipykernel)",
   "language": "python",
   "name": "python3"
  },
  "language_info": {
   "codemirror_mode": {
    "name": "ipython",
    "version": 3
   },
   "file_extension": ".py",
   "mimetype": "text/x-python",
   "name": "python",
   "nbconvert_exporter": "python",
   "pygments_lexer": "ipython3",
   "version": "3.9.6"
  }
 },
 "nbformat": 4,
 "nbformat_minor": 2
}
